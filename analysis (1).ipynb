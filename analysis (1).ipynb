{
  "nbformat": 4,
  "nbformat_minor": 0,
  "metadata": {
    "colab": {
      "provenance": []
    },
    "kernelspec": {
      "name": "python3",
      "display_name": "Python 3"
    },
    "language_info": {
      "name": "python"
    }
  },
  "cells": [
    {
      "cell_type": "code",
      "source": [
        "from google.colab import drive\n",
        "drive.mount('/content/drive')\n",
        "import pandas as pd\n"
      ],
      "metadata": {
        "colab": {
          "base_uri": "https://localhost:8080/"
        },
        "id": "A_5sU9-dmWcV",
        "outputId": "042b7f4e-9bc4-4aaf-b15b-e654aaf5ae63"
      },
      "execution_count": null,
      "outputs": [
        {
          "output_type": "stream",
          "name": "stdout",
          "text": [
            "Drive already mounted at /content/drive; to attempt to forcibly remount, call drive.mount(\"/content/drive\", force_remount=True).\n"
          ]
        }
      ]
    },
    {
      "cell_type": "code",
      "execution_count": 15,
      "metadata": {
        "id": "aOvvO9WJjb6A"
      },
      "outputs": [],
      "source": []
    },
    {
      "cell_type": "markdown",
      "source": [
        "1. Generate Attendance Report of an Employee"
      ],
      "metadata": {
        "id": "2yCAxy0Ejkva"
      }
    },
    {
      "cell_type": "code",
      "source": [
        "#2. Attendence details of an employee for a particular day\n",
        "import pandas as pd\n",
        "from datetime import datetime\n",
        "\n",
        "# Load the attendance file\n",
        "attendance = pd.read_csv(\"/content/drive/MyDrive/python_project/attendance_analysis_system/Employee_Attendance_Data.csv\")\n",
        "\n",
        "# Convert Date column to datetime\n",
        "attendance['Date'] = pd.to_datetime(attendance['Date'], format=\"%d-%m-%Y\")\n",
        "\n",
        "# Input from user\n",
        "emp_id = int(input(\"Enter Employee ID: \"))\n",
        "date_input = input(\"Enter Date (DD-MM-YYYY): \")\n",
        "query_date = pd.to_datetime(date_input, format=\"%d-%m-%Y\")\n",
        "\n",
        "# Filter the attendance\n",
        "record = attendance[\n",
        "    (attendance['Employee ID'] == emp_id) &\n",
        "    (attendance['Date'] == query_date)\n",
        "]\n",
        "\n",
        "# Output result\n",
        "if record.empty:\n",
        "    print(f\"No attendance record found for Employee ID {emp_id} on {date_input}\")\n",
        "else:\n",
        "    row = record.iloc[0]\n",
        "    print(f\"\\nAttendance for Employee ID {emp_id} on {date_input}:\")\n",
        "    print(f\"Punch In Time     : {row['Punch In Time']} ({row['Punch In Building']}, Device: {row['Punch In Device']})\")\n",
        "    print(f\"Punch Out Time    : {row['Punch Out Time']} ({row['Punch Out Building']}, Device: {row['Punch Out Device']})\")\n"
      ],
      "metadata": {
        "colab": {
          "base_uri": "https://localhost:8080/"
        },
        "id": "VJPrMsKnybBj",
        "outputId": "b95f81db-3ef2-45e1-e6e1-ca9baecf5218"
      },
      "execution_count": null,
      "outputs": [
        {
          "output_type": "stream",
          "name": "stdout",
          "text": [
            "Enter Employee ID: 13665\n",
            "Enter Date (DD-MM-YYYY): 09-04-2025\n",
            "\n",
            "Attendance for Employee ID 13665 on 09-04-2025:\n",
            "Punch In Time     : 8:00 (GDN, Device: GDN1)\n",
            "Punch Out Time    : 18:00 (ALM, Device: ALM2)\n"
          ]
        }
      ]
    },
    {
      "cell_type": "code",
      "source": [],
      "metadata": {
        "id": "t5iu15YZjgpS"
      },
      "execution_count": null,
      "outputs": []
    },
    {
      "cell_type": "markdown",
      "source": [
        "2. Tracks punch-in/punch-out information of an employee for a particular day. Also alerts if employee punches in/out from a building that is neither their cabin building nor class building"
      ],
      "metadata": {
        "id": "2SIDfE0mjFv7"
      }
    },
    {
      "cell_type": "code",
      "source": [
        "#2 if cabin is in different building and class in different building but punching elsewhere\n",
        "import pandas as pd\n",
        "from datetime import datetime\n",
        "\n",
        "# Load data\n",
        "attendance = pd.read_csv(\"/content/drive/MyDrive/python_project/attendance_analysis_system/Employee_Attendance_Data.csv\")\n",
        "cabin = pd.read_csv(\"/content/drive/MyDrive/python_project/attendance_analysis_system/Cabin_Info.csv\")\n",
        "schedule = pd.read_csv(\"/content/drive/MyDrive/python_project/attendance_analysis_system/Class_Schedule.csv\")\n",
        "slots = pd.read_csv(\"/content/drive/MyDrive/python_project/attendance_analysis_system/Slots.csv\")\n",
        "calendar = pd.read_csv(\"/content/drive/MyDrive/python_project/attendance_analysis_system/Academic_Calender.csv\")\n",
        "\n",
        "# Preprocess\n",
        "attendance['Date'] = pd.to_datetime(attendance['Date'], format=\"%d-%m-%Y\")\n",
        "calendar['Date'] = pd.to_datetime(calendar['Date'], format=\"%d-%m-%Y\")\n",
        "\n",
        "# Input\n",
        "emp_id = int(input(\"Enter Employee ID: \"))\n",
        "date_input = input(\"Enter Date (DD-MM-YYYY): \")\n",
        "query_date = pd.to_datetime(date_input, format=\"%d-%m-%Y\")\n",
        "\n",
        "# Get day name\n",
        "day_row = calendar[calendar['Date'] == query_date]\n",
        "if day_row.empty:\n",
        "    print(\"Invalid date entered (not in academic calendar).\")\n",
        "    exit()\n",
        "\n",
        "day_name = day_row['Day'].values[0]\n",
        "\n",
        "# Get punch in data\n",
        "record = attendance[\n",
        "    (attendance['Employee ID'] == emp_id) &\n",
        "    (attendance['Date'] == query_date)\n",
        "]\n",
        "\n",
        "if record.empty:\n",
        "    print(f\"No attendance found for Employee ID {emp_id} on {date_input}\")\n",
        "else:\n",
        "    row = record.iloc[0]\n",
        "    punch_in_building = row['Punch In Building']\n",
        "    punch_in_device = row['Punch In Device']\n",
        "    punch_in_time = row['Punch In Time']\n",
        "\n",
        "    punch_out_building = row['Punch Out Building']\n",
        "    punch_out_device = row['Punch Out Device']\n",
        "    punch_out_time = row['Punch Out Time']\n",
        "\n",
        "    # Get cabin building\n",
        "    emp_cabin = cabin[cabin['Emp_ID'] == emp_id]\n",
        "    cabin_building = emp_cabin['Building'].values[0] if not emp_cabin.empty else None\n",
        "\n",
        "    # Get class buildings for that day\n",
        "    emp_schedule = schedule[schedule['Employee ID'] == emp_id]\n",
        "    relevant_slots = slots[slots['Day'] == day_name]\n",
        "    class_buildings = emp_schedule[\n",
        "        emp_schedule['Slot ID'].isin(relevant_slots['Slot_ID'])\n",
        "    ]['Class Building'].unique().tolist()\n",
        "\n",
        "    # Prepare categorized allowed buildings\n",
        "    allowed_class_buildings = set(class_buildings)\n",
        "    allowed_cabin_building = set([cabin_building]) if cabin_building else set()\n",
        "    total_allowed_buildings = allowed_class_buildings.union(allowed_cabin_building)\n",
        "\n",
        "    # Output\n",
        "    print(f\"\\nAttendance for Employee ID {emp_id} on {date_input}\")\n",
        "    print(f\"Punch In Time      : {punch_in_time}\")\n",
        "    print(f\"Punch In Building  : {punch_in_building}\")\n",
        "    print(f\"Punch In Device    : {punch_in_device}\")\n",
        "    print(f\"Punch Out Time     : {punch_out_time}\")\n",
        "    print(f\"Punch Out Building : {punch_out_building}\")\n",
        "    print(f\"Punch Out Device   : {punch_out_device}\")\n",
        "    print(f\"\\nAllowed Buildings:\")\n",
        "    if allowed_class_buildings:\n",
        "        print(f\"Class Buildings    : {', '.join(allowed_class_buildings)}\")\n",
        "    if allowed_cabin_building:\n",
        "        print(f\"Cabin Building     : {', '.join(allowed_cabin_building)}\")\n",
        "\n",
        "    # Suspicious detection\n",
        "    if punch_in_building not in total_allowed_buildings:\n",
        "        print(f\"\\nSuspicious Punch In Detected!\")\n",
        "        print(f\"Employee punched in from '{punch_in_building}' using device '{punch_in_device}', which is not an allowed location.\")\n",
        "\n",
        "    if punch_out_building not in total_allowed_buildings:\n",
        "        print(f\"\\nSuspicious Punch Out Detected!\")\n",
        "        print(f\"Employee punched out from '{punch_out_building}' using device '{punch_out_device}', which is not an allowed location.\")\n",
        "\n",
        "    if punch_in_building in total_allowed_buildings and punch_out_building in total_allowed_buildings:\n",
        "        print(\"\\nBoth punch locations are valid.\")\n"
      ],
      "metadata": {
        "colab": {
          "base_uri": "https://localhost:8080/"
        },
        "id": "hUkERZW02zEW",
        "outputId": "8448f40a-c63e-4e07-b70c-6ab8bfc1e50c"
      },
      "execution_count": 15,
      "outputs": [
        {
          "output_type": "stream",
          "name": "stdout",
          "text": [
            "Enter Employee ID: 13143\n",
            "Enter Date (DD-MM-YYYY): 08-04-2025\n",
            "\n",
            "Attendance for Employee ID 13143 on 08-04-2025\n",
            "Punch In Time      : 8:00\n",
            "Punch In Building  : PRP\n",
            "Punch In Device    : PRP1\n",
            "Punch Out Time     : 18:00\n",
            "Punch Out Building : GB\n",
            "Punch Out Device   : GB2\n",
            "\n",
            "Allowed Buildings:\n",
            "Cabin Building     : PRP\n",
            "\n",
            "Suspicious Punch Out Detected!\n",
            "Employee punched out from 'GB' using device 'GB2', which is not an allowed location.\n"
          ]
        }
      ]
    },
    {
      "cell_type": "code",
      "source": [],
      "metadata": {
        "id": "zewlAgaIiWvn"
      },
      "execution_count": null,
      "outputs": []
    },
    {
      "cell_type": "markdown",
      "source": [
        "3. A detailed Attendance Report that tracks entry time, exit time, punch in punch out building and late entry to university or class.\n",
        "\n",
        "    Line Chart is to show late entry trend over time"
      ],
      "metadata": {
        "id": "IMOQAlAHbTKR"
      }
    },
    {
      "cell_type": "code",
      "source": [
        "# Imports\n",
        "import pandas as pd\n",
        "from datetime import datetime\n",
        "import matplotlib.pyplot as plt\n",
        "\n",
        "# Load CSVs\n",
        "cabin = pd.read_csv(\"/content/drive/MyDrive/python_project/attendance_analysis_system/Cabin_Info.csv\")\n",
        "schedule = pd.read_csv(\"/content/drive/MyDrive/python_project/attendance_analysis_system/Class_Schedule.csv\")\n",
        "attendance = pd.read_csv(\"/content/drive/MyDrive/python_project/attendance_analysis_system/Employee_Attendance_Data.csv\")\n",
        "leave = pd.read_csv(\"/content/drive/MyDrive/python_project/attendance_analysis_system/Leave_Info.csv\")\n",
        "slots = pd.read_csv(\"/content/drive/MyDrive/python_project/attendance_analysis_system/Slots.csv\")\n",
        "calender = pd.read_csv(\"/content/drive/MyDrive/python_project/attendance_analysis_system/Academic_Calender.csv\")\n",
        "\n",
        "# Preprocessing\n",
        "attendance['Date'] = pd.to_datetime(attendance['Date'], format=\"%d-%m-%Y\")\n",
        "calender['Date'] = pd.to_datetime(calender['Date'], format=\"%d-%m-%Y\")\n",
        "\n",
        "# Input\n",
        "empID = int(input(\"Enter Employee ID: \"))\n",
        "start_date = pd.to_datetime(input(\"Enter start date (DD-MM-YYYY): \"), format=\"%d-%m-%Y\")\n",
        "end_date = pd.to_datetime(input(\"Enter end date (DD-MM-YYYY): \"), format=\"%d-%m-%Y\")\n",
        "\n",
        "# Constants\n",
        "office_start_time = datetime.strptime(\"08:00\", \"%H:%M\").time()\n",
        "\n",
        "# Functions\n",
        "def get_schedule(emp_id, schedule_df):\n",
        "    return schedule_df[schedule_df['Employee ID'] == emp_id][['Class Building', 'Slot ID']].values.tolist()\n",
        "\n",
        "def build_class_times_by_date(emp_schedule, slots_df, calender_df):\n",
        "    date_to_times = {}\n",
        "    instructional = calender_df[calender_df['Status'] == 'Instructional']\n",
        "    for _, slot_id in emp_schedule:\n",
        "        slot_rows = slots_df[slots_df['Slot_ID'] == slot_id]\n",
        "        for _, slot in slot_rows.iterrows():\n",
        "            day = slot['Day']\n",
        "            start_time = datetime.strptime(slot['Start_Time'], \"%H:%M\").time()\n",
        "            end_time = datetime.strptime(slot['End_Time'], \"%H:%M\").time()\n",
        "            matching_dates = instructional[instructional['Day'] == day]\n",
        "            for _, date_row in matching_dates.iterrows():\n",
        "                date = date_row['Date']\n",
        "                if date not in date_to_times:\n",
        "                    date_to_times[date] = (start_time, end_time)\n",
        "                else:\n",
        "                    existing_start, existing_end = date_to_times[date]\n",
        "                    date_to_times[date] = (min(existing_start, start_time), max(existing_end, end_time))\n",
        "    return date_to_times\n",
        "\n",
        "# Processing\n",
        "date_range_df = calender[\n",
        "    (calender['Date'] >= start_date) & (calender['Date'] <= end_date)\n",
        "]\n",
        "\n",
        "emp_schedule = get_schedule(empID, schedule)\n",
        "class_times_by_date = build_class_times_by_date(emp_schedule, slots, calender)\n",
        "\n",
        "# For visualization\n",
        "lateness_flags = []\n",
        "dates = []\n",
        "\n",
        "# Attendance Report\n",
        "print(\"\\n📋 Attendance Report:\")\n",
        "for _, row in date_range_df.iterrows():\n",
        "    date = row['Date']\n",
        "    day = row['Day']\n",
        "    status = row['Status']\n",
        "    date_str = date.strftime('%d-%m-%Y')\n",
        "    label = f\"{date_str} ({day})\"\n",
        "\n",
        "    if status != 'Instructional':\n",
        "        print(f\"{label} - Non Instructional Day\")\n",
        "        continue\n",
        "\n",
        "    class_start, class_end = class_times_by_date.get(date, (None, None))\n",
        "    emp_attendance = attendance[\n",
        "        (attendance['Employee ID'] == empID) & (attendance['Date'] == date)\n",
        "    ]\n",
        "\n",
        "    if emp_attendance.empty:\n",
        "        entry_status = \"Absent\"\n",
        "        exit_status = \"Absent\"\n",
        "        punch_in_info = \"N/A\"\n",
        "        punch_out_info = \"N/A\"\n",
        "        punch_in_location = \"-\"\n",
        "        punch_out_location = \"-\"\n",
        "    else:\n",
        "        row = emp_attendance.iloc[0]\n",
        "        punch_in_time = datetime.strptime(row['Punch In Time'], \"%H:%M\").time()\n",
        "        punch_out_time = datetime.strptime(row['Punch Out Time'], \"%H:%M\").time()\n",
        "        punch_in_building = row['Punch In Building']\n",
        "        punch_out_building = row['Punch Out Building']\n",
        "        punch_in_device = row['Punch In Device']\n",
        "        punch_out_device = row['Punch Out Device']\n",
        "\n",
        "        punch_in_info = f\"{row['Punch In Time']} ({punch_in_building}, {punch_in_device})\"\n",
        "        punch_out_info = f\"{row['Punch Out Time']} ({punch_out_building}, {punch_out_device})\"\n",
        "\n",
        "        # Lateness checks\n",
        "        office_late = punch_in_time > office_start_time\n",
        "        class_late = class_start and punch_in_time > class_start\n",
        "\n",
        "        if class_start:\n",
        "            if class_late:\n",
        "                entry_status = \"Late to Class\"\n",
        "            elif office_late:\n",
        "                entry_status = \"On Time for Class but Late to University\"\n",
        "            else:\n",
        "                entry_status = \"Arrived On Time\"\n",
        "        else:\n",
        "            if office_late:\n",
        "                entry_status = \"Late to University (No Class)\"\n",
        "            else:\n",
        "                entry_status = \"On Time (No Class)\"\n",
        "\n",
        "        # Exit status\n",
        "        if class_end:\n",
        "            exit_status = \"Left On Time\" if punch_out_time >= class_end else \"Left Early\"\n",
        "        else:\n",
        "            exit_status = \"Left (No Class)\"\n",
        "\n",
        "        # Get cabin building\n",
        "        emp_cabin = cabin[cabin['Emp_ID'] == empID]\n",
        "        cabin_building = emp_cabin['Building'].values[0] if not emp_cabin.empty else None\n",
        "\n",
        "        # Get class buildings for the current day\n",
        "        emp_schedule_df = schedule[schedule['Employee ID'] == empID]\n",
        "        relevant_slots = slots[slots['Day'] == day]\n",
        "        class_buildings_today = emp_schedule_df[\n",
        "            emp_schedule_df['Slot ID'].isin(relevant_slots['Slot_ID'])\n",
        "        ]['Class Building'].unique().tolist()\n",
        "\n",
        "        # Punch-in location type\n",
        "        if punch_in_building in class_buildings_today and punch_in_building == cabin_building:\n",
        "            punch_in_location = \"Class + Cabin\"\n",
        "        elif punch_in_building in class_buildings_today:\n",
        "            punch_in_location = \"Class\"\n",
        "        elif punch_in_building == cabin_building:\n",
        "            punch_in_location = \"Cabin\"\n",
        "        else:\n",
        "            punch_in_location = \"Unknown\"\n",
        "\n",
        "        # Punch-out location type\n",
        "        if punch_out_building in class_buildings_today and punch_out_building == cabin_building:\n",
        "            punch_out_location = \"Class + Cabin\"\n",
        "        elif punch_out_building in class_buildings_today:\n",
        "            punch_out_location = \"Class\"\n",
        "        elif punch_out_building == cabin_building:\n",
        "            punch_out_location = \"Cabin\"\n",
        "        else:\n",
        "            punch_out_location = \"Unknown\"\n",
        "\n",
        "    # Print entry\n",
        "    print(f\"{label} - Entry: {entry_status} at {punch_in_info} [{punch_in_location}] | Exit: {exit_status} at {punch_out_info} [{punch_out_location}]\")\n",
        "\n",
        "    # Add to line chart data\n",
        "    dates.append(date.strftime('%d-%b'))\n",
        "    lateness_flags.append(1 if \"Late\" in entry_status else 0)\n",
        "\n",
        "# Line Chart: Late Entry Trend\n",
        "import matplotlib.pyplot as plt\n",
        "\n",
        "plt.figure(figsize=(10, 4))\n",
        "plt.plot(dates, lateness_flags, marker='o', linestyle='-', color='red')\n",
        "plt.title(\"Late Entry Trend Over Time\")\n",
        "plt.xlabel(\"Date\")\n",
        "plt.ylabel(\"Late (1 = Yes, 0 = No)\")\n",
        "plt.xticks(rotation=45)\n",
        "plt.grid(True)\n",
        "plt.tight_layout()\n",
        "plt.show()\n"
      ],
      "metadata": {
        "colab": {
          "base_uri": "https://localhost:8080/",
          "height": 615
        },
        "id": "rW09wb92gEPv",
        "outputId": "89b6a302-af0c-4053-a19f-321c149f1d3c"
      },
      "execution_count": 13,
      "outputs": [
        {
          "output_type": "stream",
          "name": "stdout",
          "text": [
            "Enter Employee ID: 15754\n",
            "Enter start date (DD-MM-YYYY): 07-04-2025\n",
            "Enter end date (DD-MM-YYYY): 13-04-2025\n",
            "\n",
            "📋 Attendance Report:\n",
            "07-04-2025 (Monday) - Entry: On Time for Class but Late to University at 8:05 (GDN, GDN1) [Cabin] | Exit: Left On Time at 18:00 (GDN, GDN2) [Cabin]\n",
            "08-04-2025 (Tuesday) - Entry: On Time (No Class) at 7:55 (PRP, PRP1) [Unknown] | Exit: Left (No Class) at 18:00 (GB, GB2) [Unknown]\n",
            "09-04-2025 (Wednesday) - Entry: Absent at N/A [-] | Exit: Absent at N/A [-]\n",
            "10-04-2025 (Thursday) - Entry: Late to Class at 8:10 (MGR, MGR1) [Unknown] | Exit: Left On Time at 18:10 (ALM, ALM2) [Unknown]\n",
            "11-04-2025 (Friday) - Entry: On Time (No Class) at 8:00 (ALM, ALM1) [Unknown] | Exit: Left (No Class) at 18:00 (GDN, GDN2) [Cabin]\n",
            "12-04-2025 (Saturday) - Entry: On Time (No Class) at 8:00 (GDN, GDN1) [Cabin] | Exit: Left (No Class) at 18:00 (SJT, SJT2) [Unknown]\n",
            "13-04-2025 (Sunday) - Non Instructional Day\n"
          ]
        },
        {
          "output_type": "display_data",
          "data": {
            "text/plain": [
              "<Figure size 1000x400 with 1 Axes>"
            ],
            "image/png": "[encoded data removed]"
          },
          "metadata": {}
        }
      ]
    },
    {
      "cell_type": "code",
      "source": [],
      "metadata": {
        "id": "06ZRBlQUgcCo"
      },
      "execution_count": null,
      "outputs": []
    },
    {
      "cell_type": "markdown",
      "source": [
        "4. Track whether an employee was on time or late for a class scheduled on a particular day."
      ],
      "metadata": {
        "id": "8cToYaz2gYhp"
      }
    },
    {
      "cell_type": "code",
      "source": [
        "\n",
        "import pandas as pd\n",
        "from datetime import datetime\n",
        "import matplotlib.pyplot as plt\n",
        "\n",
        "# Load data\n",
        "attendance = pd.read_csv(\"/content/drive/MyDrive/python_project/attendance_analysis_system/Employee_Attendance_Data.csv\")\n",
        "schedule = pd.read_csv(\"/content/drive/MyDrive/python_project/attendance_analysis_system/Class_Schedule.csv\")\n",
        "slots = pd.read_csv(\"/content/drive/MyDrive/python_project/attendance_analysis_system/Slots.csv\")\n",
        "calendar = pd.read_csv(\"/content/drive/MyDrive/python_project/attendance_analysis_system/Academic_Calender.csv\")\n",
        "\n",
        "# Convert date formats\n",
        "attendance['Date'] = pd.to_datetime(attendance['Date'], format=\"%d-%m-%Y\")\n",
        "calendar['Date'] = pd.to_datetime(calendar['Date'], format=\"%d-%m-%Y\")\n",
        "\n",
        "# Inputs\n",
        "emp_id = int(input(\"Enter Employee ID: \"))\n",
        "date_input = input(\"Enter Date (DD-MM-YYYY): \")\n",
        "query_date = pd.to_datetime(date_input, format=\"%d-%m-%Y\")\n",
        "\n",
        "# Get Day Name\n",
        "calendar_day = calendar[calendar['Date'] == query_date]\n",
        "if calendar_day.empty or calendar_day.iloc[0]['Status'] != 'Instructional':\n",
        "    print(\"This is not an instructional day.\")\n",
        "    exit()\n",
        "\n",
        "day_name = calendar_day.iloc[0]['Day']\n",
        "\n",
        "# Get attendance\n",
        "record = attendance[\n",
        "    (attendance['Employee ID'] == emp_id) &\n",
        "    (attendance['Date'] == query_date)\n",
        "]\n",
        "\n",
        "if record.empty:\n",
        "    print(\"No attendance record found.\")\n",
        "    exit()\n",
        "\n",
        "row = record.iloc[0]\n",
        "punch_in_time_str = row['Punch In Time']\n",
        "punch_in_time = datetime.strptime(punch_in_time_str, \"%H:%M\").time()\n",
        "punch_in_building = row['Punch In Building']\n",
        "punch_in_device = row['Punch In Device']\n",
        "\n",
        "# Get class start time\n",
        "emp_schedule = schedule[schedule['Employee ID'] == emp_id]\n",
        "day_slots = slots[slots['Day'] == day_name]\n",
        "\n",
        "# Filter slots for that day\n",
        "class_slots = emp_schedule[emp_schedule['Slot ID'].isin(day_slots['Slot_ID'])]\n",
        "\n",
        "# Output block\n",
        "print(f\"\\nAttendance Check for Employee ID {emp_id} on {date_input}\")\n",
        "print(f\"Punch In Time      : {punch_in_time_str}\")\n",
        "print(f\"Punch In Building  : {punch_in_building}\")\n",
        "print(f\"Punch In Device    : {punch_in_device}\")\n",
        "\n",
        "if class_slots.empty:\n",
        "    print(\"No scheduled classes for this day.\")\n",
        "    print(\"Note: Cannot check for late entry in class.\\n\")\n",
        "else:\n",
        "    # Get earliest class start time\n",
        "    min_time = None\n",
        "    for slot_id in class_slots['Slot ID']:\n",
        "        times = day_slots[day_slots['Slot_ID'] == slot_id]['Start_Time']\n",
        "        for t in times:\n",
        "            slot_start = datetime.strptime(t, \"%H:%M\").time()\n",
        "            if min_time is None or slot_start < min_time:\n",
        "                min_time = slot_start\n",
        "\n",
        "    print(f\"Class Start Time   : {min_time}\")\n",
        "\n",
        "    if punch_in_time <= min_time:\n",
        "        print(\"Arrived On Time\")\n",
        "    else:\n",
        "        print(\"Late Entry for Class!!!\")\n",
        "\n",
        "\n"
      ],
      "metadata": {
        "colab": {
          "base_uri": "https://localhost:8080/"
        },
        "id": "KUgB0fh5Cams",
        "outputId": "4b226fd6-84c1-4e15-a39c-596ec60d658b"
      },
      "execution_count": 1,
      "outputs": [
        {
          "output_type": "stream",
          "name": "stdout",
          "text": [
            "Enter Employee ID: 13143\n",
            "Enter Date (DD-MM-YYYY): 08-04-2025\n",
            "\n",
            "Attendance Check for Employee ID 13143 on 08-04-2025\n",
            "Punch In Time      : 8:00\n",
            "Punch In Building  : PRP\n",
            "Punch In Device    : PRP1\n",
            "No scheduled classes for this day.\n",
            "Note: Cannot check for late entry in class.\n",
            "\n"
          ]
        }
      ]
    }
  ]
}